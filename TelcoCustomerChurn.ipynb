{
 "cells": [
  {
   "cell_type": "code",
   "execution_count": null,
   "id": "0b4cd4a2-d5a0-40af-84a6-5301430d60c4",
   "metadata": {},
   "outputs": [],
   "source": [
    "import numpy as np\n",
    "import pandas as pd\n",
    "import matplotlib.pyplot as plt\n",
    "import seaborn as sns \n",
    "from sklearn.preprocessing import StandardScaler\n",
    "from sklearn.cluster import KMeans\n",
    "from sklearn.metrics import silhouette_score\n",
    "from mpl_toolkits.mplot3d import Axes3D  \n",
    "from sklearn.metrics import confusion_matrix\n",
    "from sklearn.model_selection import train_test_split\n",
    "from sklearn.preprocessing import LabelEncoder, StandardScaler\n",
    "from sklearn.neighbors import KNeighborsClassifier\n",
    "from sklearn.metrics import classification_report, roc_auc_score\n",
    "from imblearn.over_sampling import SMOTE"
   ]
  },
  {
   "cell_type": "code",
   "execution_count": null,
   "id": "281aedfa-16a4-4aa0-a0be-8b5afd12954e",
   "metadata": {},
   "outputs": [],
   "source": [
    "df = pd.read_csv('telco.csv')"
   ]
  },
  {
   "cell_type": "code",
   "execution_count": null,
   "id": "c5542b75-2c65-4176-9ae0-945e4552bfd9",
   "metadata": {},
   "outputs": [],
   "source": [
    "df.head(3)"
   ]
  },
  {
   "cell_type": "code",
   "execution_count": null,
   "id": "b5bbdb5f-4443-4833-a327-da6f3ffa99ca",
   "metadata": {},
   "outputs": [],
   "source": [
    "df.info()"
   ]
  },
  {
   "cell_type": "code",
   "execution_count": null,
   "id": "5ee39b86-393b-47bf-a147-f989402a36ef",
   "metadata": {},
   "outputs": [],
   "source": [
    "df.isnull().sum()"
   ]
  },
  {
   "cell_type": "markdown",
   "id": "3cd056a2-b2cd-464c-ad81-e0c44200e4fb",
   "metadata": {},
   "source": [
    "# จำนวนของคนที่ยกเลิกบริการและไม่ยกเลิกบริการ"
   ]
  },
  {
   "cell_type": "code",
   "execution_count": null,
   "id": "22581654-01d6-412f-a0cb-cfaa940d1db1",
   "metadata": {},
   "outputs": [],
   "source": [
    "churn_counts = df[\"Churn Label\"].replace({\"Yes\": \"Churned\", \"No\": \"Stayed\"}).value_counts()\n",
    "plt.figure(figsize=(10, 6))\n",
    "plt.pie(churn_counts, labels=churn_counts.index, autopct='%1.1f%%', colors=[\"#1874CD\", \"#CD5555\"])\n",
    "plt.title(\"Churn Distribution\")\n",
    "plt.legend([f\"{label}: {count}\" for label, count in churn_counts.items()])\n",
    "plt.show()"
   ]
  },
  {
   "cell_type": "markdown",
   "id": "6c833108-77f2-4645-a23c-39b650bed820",
   "metadata": {},
   "source": [
    "# การให้คะแนน และจำนวนของคนที่ยกเลิกบริการและไม่ยกเลิกบริการ"
   ]
  },
  {
   "cell_type": "code",
   "execution_count": null,
   "id": "5583a84e-0d0b-4870-a67d-fcfec942f88d",
   "metadata": {},
   "outputs": [],
   "source": [
    "df['Satisfaction Score'].value_counts()\n",
    "df.groupby('Satisfaction Score')['Churn Label'].value_counts()"
   ]
  },
  {
   "cell_type": "code",
   "execution_count": null,
   "id": "57db4a10-bcca-4df2-a87a-6f5ca7a07fe3",
   "metadata": {},
   "outputs": [],
   "source": [
    "churn_counts = df.groupby([\"Satisfaction Score\", \"Churn Label\"]).size().unstack()\n",
    "churn_counts.plot(kind=\"bar\", figsize=(8, 5), color=[\"#1874CD\", \"#CD5555\"])\n",
    "plt.xlabel(\"Satisfaction Score\")\n",
    "plt.ylabel(\"Number of Customers\")\n",
    "plt.title(\"Churn vs Satisfaction Score\")\n",
    "plt.legend([\"Stayed (0)\", \"Churned (1)\"])\n",
    "plt.grid(axis=\"y\", linestyle=\"--\", alpha=0.7)"
   ]
  },
  {
   "cell_type": "markdown",
   "id": "c475f670-69d2-4674-a1c4-291bacc5fedc",
   "metadata": {},
   "source": [
    "# ภาพรวมอายุและการยกเลิกบริการ/ไม่ยกเลิกบริการ"
   ]
  },
  {
   "cell_type": "code",
   "execution_count": null,
   "id": "e467b76e-b49b-451a-9bc2-fa81b17e808e",
   "metadata": {},
   "outputs": [],
   "source": [
    "plt.figure(figsize=(8, 5))\n",
    "age_counts = df.groupby(['Age', 'Churn Label']).size().reset_index(name='Count')\n",
    "sns.lineplot(data=age_counts[age_counts['Churn Label'] == 'Yes'], x='Age', y='Count', color='#CD5555', marker='o', label='Churned')\n",
    "sns.lineplot(data=age_counts[age_counts['Churn Label'] == 'No'], x='Age', y='Count', color='#1874CD', marker='o', label='Stayed')\n",
    "plt.title(\"Age Distribution by Churn Status\")\n",
    "plt.xlabel(\"Age\")\n",
    "plt.ylabel(\"Count\")\n",
    "plt.legend()\n",
    "plt.show()"
   ]
  },
  {
   "cell_type": "markdown",
   "id": "28ce5829-3a02-45a2-b099-3aa3b7966d54",
   "metadata": {},
   "source": [
    "# ภาพรวมค่าใช้จ่ายรายเดือน"
   ]
  },
  {
   "cell_type": "code",
   "execution_count": null,
   "id": "1dbbdcc6-5e8e-48b1-ab1e-eedcb992eec0",
   "metadata": {},
   "outputs": [],
   "source": [
    "bins = list(range(0, int(df['Monthly Charge'].max()) + 10, 10))\n",
    "labels = [f\"{bins[i]}-{bins[i+1]}\" for i in range(len(bins)-1)]\n",
    "\n",
    "df['Monthly Charge Binned'] = pd.cut(df['Monthly Charge'], bins=bins, labels=labels, include_lowest=True)\n",
    "\n",
    "churn_summary = df.groupby(['Monthly Charge Binned', 'Churn Label'], observed=False).size().reset_index(name='Customer Count')\n",
    "\n",
    "plt.figure(figsize=(16, 8))\n",
    "ax = sns.barplot(\n",
    "    x='Monthly Charge Binned', \n",
    "    y='Customer Count', \n",
    "    hue='Churn Label', \n",
    "    data=churn_summary, \n",
    "    palette=[\"#1874CD\", \"#CD5555\"]\n",
    ")\n",
    "\n",
    "plt.xlabel(\"Number of Customers\")\n",
    "plt.ylabel(\"Monthly Charge Range\")\n",
    "plt.title(\"Distribution of Monthly Charge (Separated by Churn)\")\n",
    "handles, labels = ax.get_legend_handles_labels()\n",
    "ax.legend(handles, ['Stay', 'Churn'], title=\"Churn Status\", loc='upper right')\n",
    "\n",
    "for container in plt.gca().containers:\n",
    "    plt.bar_label(container, fmt=\"%d\", label_type=\"edge\", fontsize=10, padding=3)\n",
    "plt.show()"
   ]
  },
  {
   "cell_type": "markdown",
   "id": "cb7d90d8-1690-4ad9-9163-d78b489658f3",
   "metadata": {},
   "source": [
    "# ค่าใช้จ่ายทั้งหมด"
   ]
  },
  {
   "cell_type": "code",
   "execution_count": null,
   "id": "bea39ced-84d9-40f1-9419-5ff125051bfa",
   "metadata": {},
   "outputs": [],
   "source": [
    "bins = list(range(0, int(df['Total Charges'].max()) + 1000, 1000))\n",
    "labels = [f\"{bins[i]}-{bins[i+1]}\" for i in range(len(bins)-1)]\n",
    "\n",
    "df['Total Charges Binned'] = pd.cut(df['Total Charges'], bins=bins, labels=labels, include_lowest=True)\n",
    "\n",
    "churn_summary = df.groupby(['Total Charges Binned', 'Churn Label'], observed=True).size().reset_index(name='Customer Count')\n",
    "\n",
    "plt.figure(figsize=(16, 8))\n",
    "ax = sns.barplot(\n",
    "    x='Total Charges Binned', \n",
    "    y='Customer Count', \n",
    "    hue='Churn Label', \n",
    "    data=churn_summary, \n",
    "    palette=[\"#1874CD\", \"#CD5555\"]\n",
    ")\n",
    "\n",
    "plt.xticks(ha='right')\n",
    "plt.xlabel(\"Total Charges Range\")\n",
    "plt.ylabel(\"Number of Customers\")\n",
    "plt.title(\"Distribution of Total Charges\")\n",
    "\n",
    "handles, labels = ax.get_legend_handles_labels()\n",
    "ax.legend(handles, ['Stay', 'Churn'], title=\"Churn Status\", loc='upper right')\n",
    "\n",
    "for container in ax.containers:\n",
    "    plt.bar_label(container, fmt=\"%d\", label_type=\"edge\", fontsize=12)\n",
    "plt.show()"
   ]
  },
  {
   "cell_type": "markdown",
   "id": "3ac20344-eb4e-415b-940b-fcd7a0b80fd6",
   "metadata": {},
   "source": [
    "# ช่วงอายุที่มีคนให้คะแนน 1-3 คะแนน (Churn)"
   ]
  },
  {
   "cell_type": "code",
   "execution_count": null,
   "id": "7a89b4d5-0028-41cf-8de6-0e893778fe47",
   "metadata": {},
   "outputs": [],
   "source": [
    "filtered_df = df[df[\"Satisfaction Score\"].between(1, 3)].copy()\n",
    "age_bins = [18, 30, 42, 54, 66, 80]\n",
    "age_labels = [\"18-30\", \"31-42\", \"43-54\", \"55-66\", \"67-80\"]\n",
    "filtered_df.loc[:, \"Age Group\"] = pd.cut(filtered_df[\"Age\"], bins=age_bins, labels=age_labels, right=True)\n",
    "age_counts = filtered_df[\"Age Group\"].value_counts().sort_index()\n",
    "colors = plt.cm.viridis(np.linspace(0.2, 1, len(age_counts)))\n",
    "plt.figure(figsize=(8, 5))\n",
    "bars = age_counts.plot(kind=\"bar\", color=colors, alpha=0.8)\n",
    "\n",
    "plt.xlabel(\"Age Group\")\n",
    "plt.ylabel(\"Count\")\n",
    "plt.title(\"Customer Count for Satisfaction Score 1-3 by Age Group\")\n",
    "plt.xticks(rotation=45)\n",
    "plt.grid(axis=\"y\", linestyle=\"--\", alpha=0.7)\n",
    "for bar, count in zip(bars.patches, age_counts):\n",
    "    plt.text(bar.get_x() + bar.get_width()/2, bar.get_height(), f\"{count:,}\", \n",
    "             ha=\"center\", va=\"bottom\", fontsize=10, color=\"black\")\n",
    "\n",
    "plt.show()\n",
    "most_common_age_group = age_counts.idxmax()\n",
    "print(\"ช่วงอายุที่มีลูกค้าให้คะแนน 1-3 มากที่สุดคือ:\", most_common_age_group)"
   ]
  },
  {
   "cell_type": "markdown",
   "id": "b9a26f4e-fcb7-4772-8228-ec42fef90063",
   "metadata": {},
   "source": [
    "# ช่วงอายุที่มีคนให้คะแนน 4-5 คะแนน (Stay)"
   ]
  },
  {
   "cell_type": "code",
   "execution_count": null,
   "id": "5767996a-0698-423a-ae39-80b2ff70f912",
   "metadata": {},
   "outputs": [],
   "source": [
    "filtered_df2 = df[df[\"Satisfaction Score\"].between(4, 5)].copy()\n",
    "age_bins = [18, 30, 42, 54, 66, 80]\n",
    "age_labels = [\"18-30\", \"31-42\", \"43-54\", \"55-66\", \"67-80\"]\n",
    "filtered_df2.loc[:, \"Age Group\"] = pd.cut(filtered_df2[\"Age\"], bins=age_bins, labels=age_labels, right=True)\n",
    "age_counts = filtered_df2[\"Age Group\"].value_counts().sort_index()\n",
    "colors = plt.cm.viridis(np.linspace(0.2, 1, len(age_counts)))\n",
    "plt.figure(figsize=(8, 5))\n",
    "bars = age_counts.plot(kind=\"bar\", color=colors, alpha=0.8)\n",
    "\n",
    "plt.xlabel(\"Age Group\")\n",
    "plt.ylabel(\"Count\")\n",
    "plt.title(\"Customer Count for Satisfaction Score 4-5 by Age Group\")\n",
    "plt.xticks(rotation=45)\n",
    "plt.grid(axis=\"y\", linestyle=\"--\", alpha=0.7)\n",
    "for bar, count in zip(bars.patches, age_counts):\n",
    "    plt.text(bar.get_x() + bar.get_width()/2, bar.get_height(), f\"{count:,}\", \n",
    "             ha=\"center\", va=\"bottom\", fontsize=10, color=\"black\")\n",
    "\n",
    "plt.show()\n",
    "most_common_age_group = age_counts.idxmax()\n",
    "print(\"ช่วงอายุที่มีลูกค้าให้คะแนน 4-5 มากที่สุดคือ:\", most_common_age_group)"
   ]
  },
  {
   "cell_type": "markdown",
   "id": "8a01153a-753f-497b-8ffe-ff99762e0de5",
   "metadata": {},
   "source": [
    "# ช่วงอายุ 31-42 มีการใช้ Contract ประเภทใดมากที่สุด"
   ]
  },
  {
   "cell_type": "code",
   "execution_count": null,
   "id": "d9f48ab6-66df-49ac-b49e-cd59c399a3a4",
   "metadata": {},
   "outputs": [],
   "source": [
    "age_31_42_df = df[(df[\"Satisfaction Score\"].between(1, 3)) & (df[\"Age\"].between(31, 42))]\n",
    "\n",
    "plt.figure(figsize=(8, 5))\n",
    "sns.countplot(data=age_31_42_df, x=\"Contract\", hue=\"Contract\", palette=\"Set2\", legend=False)\n",
    "contract_counts = age_31_42_df[\"Contract\"].value_counts()\n",
    "for i, count in enumerate(contract_counts):\n",
    "    patch = plt.gca().patches[i]\n",
    "    height = patch.get_height()\n",
    "    plt.text(patch.get_x() + patch.get_width() / 2, height / 2, str(count), ha=\"center\", fontsize=12)\n",
    "\n",
    "plt.xlabel(\"Contract\")\n",
    "plt.ylabel(\"Count\")\n",
    "plt.title(\"Contract Type Distribution for Age 31-42 (Satisfaction Score 1-3)\")\n",
    "plt.grid(axis=\"y\", linestyle=\"--\", alpha=0.7)\n",
    "plt.show()"
   ]
  },
  {
   "cell_type": "markdown",
   "id": "1c7b64a2-5b35-4a71-a344-17f51e9bf2bb",
   "metadata": {},
   "source": [
    "# กลุ่ม Month-to-Month ในช่วงอายุ 31-42 มีการใช้งานกี่เดือน"
   ]
  },
  {
   "cell_type": "code",
   "execution_count": null,
   "id": "70359c10-3e71-47ff-b3ed-72384f61bc89",
   "metadata": {},
   "outputs": [],
   "source": [
    "month_to_month_df = age_31_42_df[age_31_42_df[\"Contract\"] == \"Month-to-Month\"]\n",
    "plt.figure(figsize=(12, 5))\n",
    "ax = sns.histplot(month_to_month_df[\"Monthly Charge\"], bins=25, kde=True)\n",
    "\n",
    "cmap = plt.get_cmap(\"flare\")\n",
    "patches = ax.patches\n",
    "colors = cmap(np.linspace(0, 1, len(patches)))\n",
    "\n",
    "for patch, color in zip(patches, colors):\n",
    "    patch.set_facecolor(color)\n",
    "\n",
    "bin_centers = [(patch.get_x() + patch.get_width() / 2) for patch in patches]\n",
    "plt.xticks(bin_centers, [f\"{int(x)}\" for x in bin_centers], rotation=45)\n",
    "bin_edges = plt.gca().patches[0].get_x()\n",
    "bin_centers = [(patch.get_x() + patch.get_width() / 2) for patch in plt.gca().patches]\n",
    "plt.xticks(bin_centers, [f\"{int(x)}\" for x in bin_centers])\n",
    "plt.xlabel(\"Monthly Charge\")\n",
    "plt.ylabel(\"Count\")\n",
    "plt.title(\"Monthly Charges Distribution for Month-to-Month Contract Age 31-42 (Satisfaction Score 1-3)\")\n",
    "plt.grid(axis=\"y\", linestyle=\"--\", alpha=0.7)\n",
    "plt.show()"
   ]
  },
  {
   "cell_type": "markdown",
   "id": "eb9320e6-64c2-4ac1-80aa-e04edacec329",
   "metadata": {},
   "source": [
    "# การใช้งานแพ็คเกจของผู้ใช้ที่อายุ 31-42 ปี ที่ Churn"
   ]
  },
  {
   "cell_type": "code",
   "execution_count": null,
   "id": "dfb76055-c966-476f-b926-f9961fb5c12d",
   "metadata": {},
   "outputs": [],
   "source": [
    "service_columns = [\n",
    "    \"Internet Service\", \"Streaming TV\", \"Streaming Movies\", \"Streaming Music\", \"Unlimited Data\",\n",
    "    \"Online Security\", \"Device Protection Plan\", \"Premium Tech Support\", \"Online Backup\"\n",
    "]\n",
    "\n",
    "month_to_month_df = age_31_42_df[age_31_42_df[\"Contract\"] == \"Month-to-Month\"]\n",
    "service_counts = month_to_month_df[service_columns].apply(lambda col: (col == \"Yes\").sum()).sort_values(ascending=False)\n",
    "plt.figure(figsize=(10, 6))\n",
    "ax = sns.barplot(x=service_counts.index, y=service_counts.values, hue=service_counts.index, palette=\"flare\", legend=False)\n",
    "for p in ax.patches:\n",
    "    ax.annotate(f'{p.get_height()}', \n",
    "                (p.get_x() + p.get_width() / 2., p.get_height()), \n",
    "                xytext=(0, 10), \n",
    "                textcoords='offset points', \n",
    "                ha='center', va='center', \n",
    "                fontsize=10, color='black')\n",
    "plt.xlabel(\"Service Type\")\n",
    "plt.ylabel(\"Count\")\n",
    "plt.title(\"Service Usage for Month-to-Month Contract Age 31-42 (Satisfaction Score 1-3)\")\n",
    "plt.xticks(rotation=45)\n",
    "plt.grid(axis=\"y\", linestyle=\"--\", alpha=0.7)\n",
    "plt.show()"
   ]
  },
  {
   "cell_type": "markdown",
   "id": "fe3c6372-cb96-4d75-babd-332d659e778e",
   "metadata": {},
   "source": [
    "# สถานะการแต่งงานมีจำนวนการ Churn เท่าไหร่"
   ]
  },
  {
   "cell_type": "code",
   "execution_count": null,
   "id": "5df6b876-3821-4204-8ff1-3be1edff49a8",
   "metadata": {},
   "outputs": [],
   "source": [
    "df['Married'].value_counts()\n",
    "df.groupby('Married')['Churn Label'].value_counts()"
   ]
  },
  {
   "cell_type": "code",
   "execution_count": null,
   "id": "79bfa99a-5d82-4bbc-8533-9bb84a2e65f7",
   "metadata": {},
   "outputs": [],
   "source": [
    "plt.figure(figsize=(6, 5))\n",
    "sns.countplot(data=df, x='Married', hue='Churn Label', palette={'Yes': '#CD5555', 'No': '#1874CD'})\n",
    "plt.title('Married by Churn Status')\n",
    "plt.xlabel('Married')\n",
    "plt.ylabel('Count')\n",
    "plt.legend(labels=['Churned', 'Stayed'])"
   ]
  },
  {
   "cell_type": "markdown",
   "id": "fd7e1e81-07b9-44a3-a8bb-8e3e0e894759",
   "metadata": {},
   "source": [
    "# รูปแบบสัญญาของลูกค้าที่ยังไม่แต่งงาน และมีการ Churn"
   ]
  },
  {
   "cell_type": "code",
   "execution_count": null,
   "id": "fd3e8881-f1b9-4a96-a2e1-2d98a62f4014",
   "metadata": {},
   "outputs": [],
   "source": [
    "filtered_df = df[(df['Married'] == 'No') & (df['Churn Label'] == 'Yes')]\n",
    "filtered_df = filtered_df[filtered_df['Satisfaction Score'].between(1, 3)]\n",
    "\n",
    "plt.figure(figsize=(8, 6))\n",
    "ax = sns.countplot(data=filtered_df, x='Contract', hue='Contract', palette='Set2', legend=False)\n",
    "\n",
    "for p in ax.patches:\n",
    "    height = p.get_height()\n",
    "    if height > 0:\n",
    "        ax.annotate(f'{int(height)}', (p.get_x() + p.get_width() / 2, height / 2), \n",
    "                    ha='center', va='center', fontsize=11, color='black')\n",
    "\n",
    "plt.title('Contract Type for Unmarried & Churned (Satisfaction Score 1-3)')\n",
    "plt.xlabel('Contract Type')\n",
    "plt.ylabel('Count')\n",
    "plt.grid(axis='y', linestyle='--', alpha=0.7)\n",
    "plt.show()"
   ]
  },
  {
   "cell_type": "markdown",
   "id": "0fd86343-33cc-4ec5-883e-79e8043037ea",
   "metadata": {},
   "source": [
    "# ระยะเวลาการเป็นลูกค้าของลูกค้าที่ยังไม่แต่งงาน และมีการ Churn"
   ]
  },
  {
   "cell_type": "code",
   "execution_count": null,
   "id": "4b4ebb02-f153-4f26-9d6a-a0220e6eea37",
   "metadata": {},
   "outputs": [],
   "source": [
    "filtered_df = df[(df['Married'] == 'No') & \n",
    "                 (df['Churn Label'] == 'Yes') & \n",
    "                 (df['Contract'] == 'Month-to-Month') & \n",
    "                 (df['Satisfaction Score'].isin([1, 2, 3]))]\n",
    "\n",
    "plt.figure(figsize=(8, 6))\n",
    "sns.histplot(filtered_df['Tenure in Months'], kde=True, color='#00a86b', bins=15)\n",
    "plt.title('Tenure in Months for Unmarried & Churned (Month to Month Contract, Satisfaction Score 1-3)')\n",
    "plt.xlabel('Tenure in Months')\n",
    "plt.ylabel('Count')\n",
    "plt.show()"
   ]
  },
  {
   "cell_type": "markdown",
   "id": "8a8d2280-80c2-463c-b7ad-ac939150aebb",
   "metadata": {},
   "source": [
    "# กลุ่มลูกค้าที่ยังไม่แต่งงาน (Churn) ที่มีรูปแบบสัญญาแบบ Month-to-Month และให้คะแนนความพึงพอใจ 1-3 "
   ]
  },
  {
   "cell_type": "code",
   "execution_count": null,
   "id": "d51ae39b-b315-4673-b2d0-ff69efcc6b38",
   "metadata": {},
   "outputs": [],
   "source": [
    "df_filtered = df[(df['Married'] == 'No') & (df['Churn Label'] == 'Yes') & (df['Contract'] == 'Month-to-Month') & (df['Satisfaction Score'].isin([1, 2, 3]))]\n",
    "\n",
    "service_columns = ['Internet Service', 'Online Security', \n",
    "                   'Online Backup', 'Device Protection Plan', 'Premium Tech Support', \n",
    "                   'Streaming TV', 'Streaming Movies', 'Streaming Music', 'Unlimited Data']\n",
    "\n",
    "df_usage_combined11 = df_filtered[service_columns].apply(lambda x: (x == 'Yes').sum()).sort_values(ascending=False)\n",
    "\n",
    "colors = sns.color_palette(\"flare\", len(df_usage_combined11))\n",
    "plt.figure(figsize=(8, 5))\n",
    "df_usage_combined11.plot(kind='bar', color=colors, title=\"Service Usage for Unmarried & Churned (Satisfaction Score 1-3)\")\n",
    "plt.ylabel(\"Number of People\")\n",
    "plt.xticks(rotation=45, ha=\"right\")\n",
    "plt.grid(axis=\"y\", linestyle=\"--\", alpha=0.7)\n",
    "plt.tight_layout()\n",
    "plt.show()"
   ]
  },
  {
   "cell_type": "code",
   "execution_count": null,
   "id": "8b11a213-d7b0-4b21-8262-13d99f19c4a1",
   "metadata": {},
   "outputs": [],
   "source": [
    "df_usage_combined11.to_frame(name='Number of People')"
   ]
  },
  {
   "cell_type": "markdown",
   "id": "720921f7-e90a-42d4-a425-c9b5995ee6b6",
   "metadata": {},
   "source": [
    "# กลุ่มลูกค้าที่ยังไม่แต่งงาน (Stay) ที่มีรูปแบบสัญญาแบบ Month-to-Month และให้คะแนนความพึงพอใจ 4-5"
   ]
  },
  {
   "cell_type": "code",
   "execution_count": null,
   "id": "a2e3b276-6e3b-4002-a003-e03ffd35c12b",
   "metadata": {},
   "outputs": [],
   "source": [
    "df_filtered = df[(df['Married'] == 'No') & (df['Churn Label'] == 'No') & (df['Contract'] == 'Month-to-Month') & (df['Satisfaction Score'].isin([4, 5]))]\n",
    "\n",
    "service_columns = ['Internet Service', 'Online Security', \n",
    "                   'Online Backup', 'Device Protection Plan', 'Premium Tech Support', \n",
    "                   'Streaming TV', 'Streaming Movies', 'Streaming Music', 'Unlimited Data']\n",
    "\n",
    "df_usage_combined22 = df_filtered[service_columns].apply(lambda x: (x == 'Yes').sum()).sort_values(ascending=False)\n",
    "\n",
    "colors = sns.color_palette(\"crest\", len(df_usage_combined22))\n",
    "plt.figure(figsize=(8, 5))\n",
    "df_usage_combined22.plot(kind='bar', color=colors, title=\"Service Usage for Unmarried & Stayed (Satisfied Score 4-5)\")\n",
    "plt.ylabel(\"Number of People\")\n",
    "plt.xticks(rotation=45, ha=\"right\")\n",
    "plt.grid(axis=\"y\", linestyle=\"--\", alpha=0.7)\n",
    "plt.tight_layout()\n",
    "plt.show()"
   ]
  },
  {
   "cell_type": "code",
   "execution_count": null,
   "id": "ed7780f2-79ae-488b-b262-cacbcb9967c5",
   "metadata": {},
   "outputs": [],
   "source": [
    "df_usage_combined22.to_frame(name='Number of People')"
   ]
  },
  {
   "cell_type": "markdown",
   "id": "71349a18-c606-4118-8c44-97bb6aa76e40",
   "metadata": {},
   "source": [
    "# 5 อันดับเมืองที่มีการให้คะแนนความพึงพอใจ 1-5 คะแนน  "
   ]
  },
  {
   "cell_type": "code",
   "execution_count": null,
   "id": "c591faa9-818f-452c-b367-1fcd2dd9f70b",
   "metadata": {},
   "outputs": [],
   "source": [
    "filtered_df = df[(df['Satisfaction Score'] >= 1) & (df['Satisfaction Score'] <= 5)]\n",
    "\n",
    "# แยกข้อมูล Churn (Yes) และ Non-Churn (No)\n",
    "churn_df = filtered_df[filtered_df['Churn Label'] == 'Yes']\n",
    "non_churn_df = filtered_df[filtered_df['Churn Label'] == 'No']\n",
    "\n",
    "churn_by_city = churn_df['City'].value_counts()\n",
    "non_churn_by_city = non_churn_df['City'].value_counts()\n",
    "\n",
    "top_5_churn_cities = churn_by_city.head(5)\n",
    "top_5_non_churn_cities = non_churn_by_city.head(5)\n",
    "\n",
    "top_5_churn_cities.index = top_5_churn_cities.index.astype(str)\n",
    "top_5_non_churn_cities.index = top_5_non_churn_cities.index.astype(str)\n",
    "\n",
    "# เลือก 5 เมืองที่มีการ Churn และ Non-Churn สูงสุดรวมกัน\n",
    "cities = list(set(top_5_churn_cities.index) | set(top_5_non_churn_cities.index))\n",
    "\n",
    "plt.figure(figsize=(12, 6))\n",
    "churn_values = [churn_by_city.get(city, 0) for city in cities]\n",
    "non_churn_values = [non_churn_by_city.get(city, 0) for city in cities]\n",
    "width = 0.35  \n",
    "x = range(len(cities))  \n",
    "bars_churn = plt.bar(x, churn_values, width, label='Churned', color='#CD5555')\n",
    "bars_non_churn = plt.bar([p + width for p in x], non_churn_values, width, label='Stayed', color='#1874CD')\n",
    "\n",
    "for bar in bars_churn:\n",
    "    height = bar.get_height()\n",
    "    plt.text(bar.get_x() + bar.get_width() / 2, height + 0.5, str(int(height)), \n",
    "             ha='center', va='bottom')  # Churned\n",
    "\n",
    "for bar in bars_non_churn:\n",
    "    height = bar.get_height()\n",
    "    plt.text(bar.get_x() + bar.get_width() / 2, height + 0.5, str(int(height)), \n",
    "             ha='center', va='bottom')  # Stayed\n",
    "\n",
    "plt.xlabel('City')\n",
    "plt.ylabel('Number of Churned and Stayed')\n",
    "plt.title('Top 5 Cities with Highest Churned and Stayed')\n",
    "plt.xticks([p + width / 2 for p in x], cities, rotation=45)  \n",
    "plt.legend()\n",
    "plt.grid(True)\n",
    "plt.tight_layout()\n",
    "plt.show()\n"
   ]
  },
  {
   "cell_type": "markdown",
   "id": "e2ad34fd-4877-4901-8609-6e614e319f46",
   "metadata": {},
   "source": [
    "# 5 อันดับเมืองที่มีการ Churned มีการใช้ Service อะไรบ้าง"
   ]
  },
  {
   "cell_type": "code",
   "execution_count": null,
   "id": "c7562740-4504-4b92-ada2-fb43f9d90357",
   "metadata": {},
   "outputs": [],
   "source": [
    "top_5_cities = df.groupby('City')['Churn Label'].value_counts().unstack().fillna(0)\n",
    "top_5_cities = top_5_cities.sort_values(by='Yes', ascending=False).head(5)\n",
    "filtered_df = df[df['City'].isin(top_5_cities.index)]\n",
    "cities_of_interest = ['San Diego', 'Los Angeles', 'San Francisco', 'Sacramento', 'San Jose']\n",
    "filtered_df = filtered_df[filtered_df['City'].isin(cities_of_interest)]\n",
    "\n",
    "service_columns = ['Internet Service', 'Phone Service', 'Streaming TV', 'Streaming Movies', \n",
    "                   'Streaming Music', 'Unlimited Data', 'Online Security', 'Device Protection Plan', \n",
    "                   'Premium Tech Support', 'Online Backup']\n",
    "\n",
    "filtered_services_df = filtered_df[service_columns].apply(lambda x: x[x == 'Yes'])\n",
    "city_service_usage = filtered_services_df.groupby(filtered_df['City']).count()\n",
    "\n",
    "print(city_service_usage)\n",
    "\n",
    "city_service_usage.plot(kind='bar', figsize=(16, 8), colormap='Spectral')\n",
    "\n",
    "plt.grid()\n",
    "plt.title('Service Usage Popularity (Churn) in Top 5 Cities with Highest Churn', fontsize=16)\n",
    "plt.xlabel('City', fontsize=12)\n",
    "plt.ylabel('Count of Usage (Yes Only)', fontsize=12)\n",
    "plt.xticks(rotation=45, ha='right')\n",
    "plt.legend(title='Service', loc='upper right', bbox_to_anchor=(1.1, 1))\n",
    "plt.tight_layout()\n",
    "plt.show()"
   ]
  },
  {
   "cell_type": "markdown",
   "id": "302a5cfa-cc61-4e24-bc57-377fc6f1ba9d",
   "metadata": {},
   "source": [
    "# 5 อันดับเมืองที่มีการใช้ Service อะไรมากที่สุด"
   ]
  },
  {
   "cell_type": "code",
   "execution_count": null,
   "id": "64a89a82-c1c8-48c5-964c-867ab1f25e29",
   "metadata": {},
   "outputs": [],
   "source": [
    "columns_to_convert = ['Internet Service', 'Phone Service', 'Streaming TV', 'Streaming Movies', \n",
    "                   'Streaming Music', 'Unlimited Data', 'Online Security', 'Device Protection Plan', \n",
    "                   'Premium Tech Support', 'Online Backup']\n",
    "df[columns_to_convert] = df[columns_to_convert].replace({'Yes': 1, 'No': 0}).astype(int)\n",
    "cities_of_interest = ['San Diego', 'Los Angeles', 'San Francisco', 'Sacramento', 'San Jose']\n",
    "top_services_per_city = {}\n",
    "\n",
    "for city in cities_of_interest:\n",
    "    city_data = df[df['City'] == city]\n",
    "    service_counts = city_data[columns_to_convert].sum()\n",
    "    top_5_services = service_counts.nlargest(5)\n",
    "    top_services_per_city[city] = top_5_services\n",
    "\n",
    "top_services_df = pd.DataFrame(top_services_per_city).T\n",
    "print(top_services_df)\n",
    "top_services_df.plot(kind='bar', figsize=(16, 8), colormap='crest')\n",
    "plt.title('Top 5 Most Popular Services in Each City', fontsize=16)\n",
    "plt.xlabel('City', fontsize=12)\n",
    "plt.ylabel('Number of People Who Subscribed', fontsize=12)\n",
    "plt.xticks(rotation=45, ha='right')\n",
    "plt.legend(title='Service', loc='upper right', bbox_to_anchor=(1.1, 1))\n",
    "plt.tight_layout()\n",
    "plt.show()"
   ]
  },
  {
   "cell_type": "markdown",
   "id": "0a7f63fe-f1b2-4e54-81b6-4c24f65f9e22",
   "metadata": {},
   "source": [
    "# 5 อันดับเมืองที่มีการใช้ Service อะไรน้อยที่สุด"
   ]
  },
  {
   "cell_type": "code",
   "execution_count": null,
   "id": "6bdeeba1-cb0f-4299-b7c5-8342d2a0e32c",
   "metadata": {},
   "outputs": [],
   "source": [
    "columns_to_convert = ['Phone Service', 'Multiple Lines', 'Online Security', 'Online Backup', \n",
    "                      'Device Protection Plan', 'Premium Tech Support', 'Streaming TV', \n",
    "                      'Streaming Movies', 'Streaming Music', 'Unlimited Data']\n",
    "\n",
    "df[columns_to_convert] = df[columns_to_convert].replace({'Yes': 1, 'No': 0}).astype(int)\n",
    "\n",
    "cities_of_interest = ['San Diego', 'Los Angeles', 'San Francisco', 'Sacramento', 'San Jose']\n",
    "top_services_per_city = {}\n",
    "\n",
    "for city in cities_of_interest:\n",
    "    city_data = df[df['City'] == city]\n",
    "    service_counts = city_data[columns_to_convert].sum()\n",
    "    top_5_services = service_counts.nsmallest(5)\n",
    "    top_services_per_city[city] = top_5_services\n",
    "\n",
    "top_services_df = pd.DataFrame(top_services_per_city).T\n",
    "print(top_services_df)\n",
    "top_services_df.plot(kind='bar', figsize=(16, 8), colormap='flare')\n",
    "plt.title('Top 5 Most Unpopular Services in Each City', fontsize=16)\n",
    "plt.xlabel('City', fontsize=12)\n",
    "plt.ylabel('Number of People Who Did Not Subscribe', fontsize=12)\n",
    "plt.xticks(rotation=45, ha='right')\n",
    "plt.legend(title='Service', loc='upper right', bbox_to_anchor=(1.1, 1))\n",
    "plt.tight_layout()\n",
    "plt.show()"
   ]
  },
  {
   "cell_type": "markdown",
   "id": "808db44f-cffe-4b9d-b142-91f72112d374",
   "metadata": {},
   "source": [
    "# Clustering"
   ]
  },
  {
   "cell_type": "code",
   "execution_count": null,
   "id": "8b271e9a-42e2-4471-a8ac-54b4c4f5baea",
   "metadata": {},
   "outputs": [],
   "source": [
    "# เลือกเฉพาะคอลัมน์ที่เป็นตัวเลข \n",
    "numeric_df = df.select_dtypes(include=['float64', 'int64'])\n",
    "\n",
    "correlation_matrix = numeric_df.corr()\n",
    "\n",
    "plt.figure(figsize=(12, 8))\n",
    "sns.heatmap(correlation_matrix, annot=True, cmap=\"coolwarm\", fmt=\".2f\", linewidths=0.5)\n",
    "\n",
    "plt.title(\"Correlation Heatmap\")\n",
    "plt.show()"
   ]
  },
  {
   "cell_type": "code",
   "execution_count": null,
   "id": "4d0c15ea-61ca-4d52-b55f-9938e4100286",
   "metadata": {},
   "outputs": [],
   "source": [
    "columns = ['Monthly Charge', 'Total Charges', 'Tenure in Months', 'Contract']\n",
    "df_select = df[columns]\n",
    "df_select = df_select.replace({'yes': 1, 'no': 0})\n",
    "df_select = pd.get_dummies(df_select, drop_first=True)\n",
    "corr_matrix = df_select.corr()\n",
    "\n",
    "plt.figure(figsize=(12, 12))\n",
    "plt.imshow(corr_matrix, cmap='coolwarm', interpolation='none')\n",
    "plt.colorbar()\n",
    "plt.xticks(range(len(corr_matrix.columns)), corr_matrix.columns, rotation=90)\n",
    "plt.yticks(range(len(corr_matrix.columns)), corr_matrix.columns)\n",
    "for i in range(len(corr_matrix.columns)):\n",
    "    for j in range(len(corr_matrix.columns)):\n",
    "        plt.text(j, i, f'{corr_matrix.iloc[i, j]:.2f}', ha='center', va='center', color='black')\n",
    "\n",
    "plt.title('Correlation Matrix')\n",
    "plt.show()"
   ]
  },
  {
   "cell_type": "code",
   "execution_count": null,
   "id": "165a41f0-c572-4588-9d1b-1e6d1d5a87f7",
   "metadata": {},
   "outputs": [],
   "source": [
    "features = ['Monthly Charge', 'Total Charges', 'Tenure in Months']\n",
    "df_selected = df[features]\n",
    "df_selected = pd.get_dummies(df_selected, drop_first=True)\n",
    "scaler = StandardScaler()\n",
    "df_scaled = scaler.fit_transform(df_selected)\n",
    "inertia = []\n",
    "silhouette_scores = []\n",
    "K_range = range(2, 21)\n",
    "\n",
    "for k in K_range:\n",
    "    kmeans = KMeans(n_clusters=k, random_state=42, n_init=10)\n",
    "    labels = kmeans.fit_predict(df_scaled)\n",
    "    inertia.append(kmeans.inertia_)\n",
    "    silhouette_scores.append(silhouette_score(df_scaled, labels))\n",
    "\n",
    "# เลือกจำนวน cluster ที่ดีที่สุด\n",
    "optimal_clusters = K_range[np.argmax(silhouette_scores)]\n",
    "print(f\"Optimal number of clusters: {optimal_clusters}\")\n",
    "\n",
    "# ใช้ K-Means clustering ใหม่\n",
    "kmeans = KMeans(n_clusters=optimal_clusters, random_state=42, n_init=10)\n",
    "df['Cluster'] = kmeans.fit_predict(df_scaled)\n",
    "\n",
    "\n",
    "centroids = kmeans.cluster_centers_\n",
    "centroids_original = scaler.inverse_transform(centroids)\n",
    "\n",
    "# แปลงเป็น DataFrame ให้ดูง่ายขึ้น\n",
    "centroids_df = pd.DataFrame(centroids_original, columns=df_selected.columns)\n",
    "centroids_df['Cluster'] = range(optimal_clusters)\n",
    "\n",
    "# แสดงค่าจุดกึ่งกลางของแต่ละคลัสเตอร์\n",
    "print(\"จุดกึ่งกลางของแต่ละคลัสเตอร์ (Centroids):\")\n",
    "print(centroids_df)\n",
    "# ---- พล็อตกราฟแบบ 3 มิติ ----\n",
    "fig = plt.figure(figsize=(12, 8))\n",
    "ax = fig.add_subplot(111, projection='3d')\n",
    "\n",
    "scatter = ax.scatter(df_selected['Monthly Charge'], df_selected['Total Charges'], df_selected['Tenure in Months'], \n",
    "                     c=df['Cluster'], cmap='viridis', alpha=0.6, s=20)\n",
    "\n",
    "ax.scatter(centroids_original[:, 0], centroids_original[:, 1], centroids_original[:, 2],\n",
    "           c='red', marker='*', s=200, label=\"Cluster Centroids\")\n",
    "\n",
    "ax.set_title('Clustering Visualization (3D)')\n",
    "ax.set_xlabel('Monthly Charge')\n",
    "ax.set_ylabel('Total Charges')\n",
    "ax.set_zlabel('Tenure in Months')\n",
    "plt.legend()\n",
    "plt.colorbar(scatter, label='Cluster')\n",
    "plt.show()\n",
    "churn_stay_summary = df.groupby(['Cluster', 'Churn Label']).size().unstack(fill_value=0)\n",
    "print(\"จำนวนผู้ใช้ Churn และ Stay ในแต่ละคลัสเตอร์:\")\n",
    "print(churn_stay_summary)"
   ]
  },
  {
   "cell_type": "code",
   "execution_count": null,
   "id": "d419ad1a-ceac-45ba-975d-03f584e5073f",
   "metadata": {},
   "outputs": [],
   "source": [
    "conf_matrix = confusion_matrix(df['Cluster'], df['Churn Label'].map({'Yes': 1, 'No': 0}))\n",
    "plt.figure(figsize=(10, 7))\n",
    "sns.heatmap(conf_matrix, annot=True, fmt='d', cmap='Blues', xticklabels=['Stay', 'Churn'], yticklabels=[f'Cluster {i}' for i in range(optimal_clusters)])\n",
    "plt.title('Confusion Matrix: Churn vs Stay for each Cluster')\n",
    "plt.xlabel('Churn Label')\n",
    "plt.ylabel('Cluster')\n",
    "plt.show()"
   ]
  },
  {
   "cell_type": "markdown",
   "id": "4b1e9069-6259-4bf9-86c8-f021ba82bbed",
   "metadata": {},
   "source": [
    "# Predictive "
   ]
  },
  {
   "cell_type": "code",
   "execution_count": null,
   "id": "94a02083-afd6-4ef1-b89d-3aa22557e762",
   "metadata": {},
   "outputs": [],
   "source": [
    "le = LabelEncoder()\n",
    "df['Contract'] = le.fit_transform(df['Contract'])\n",
    "df['Churn Label Encoded'] = df['Churn Label'].map({'No': 0, 'Yes': 1})\n",
    "X = df[['Monthly Charge', 'Tenure in Months', 'Contract', 'Total Charges', 'Satisfaction Score']] \n",
    "y = df['Churn Label Encoded']\n",
    "X_train, X_test, y_train, y_test = train_test_split(X, y, test_size=0.3, random_state=42, stratify=y)\n",
    "\n",
    "# ทำ SMOTE\n",
    "smote = SMOTE(sampling_strategy=0.5, random_state=42)\n",
    "X_train_resampled, y_train_resampled = smote.fit_resample(X_train, y_train)\n",
    "\n",
    "# ทำ StandardScaler หลังจาก SMOTE\n",
    "scaler = StandardScaler()\n",
    "X_train_scaled = scaler.fit_transform(X_train_resampled)\n",
    "X_test_scaled = scaler.transform(X_test)\n",
    "\n",
    "model = KNeighborsClassifier(n_neighbors=4, weights='distance', metric='manhattan')\n",
    "model.fit(X_train_scaled, y_train_resampled)\n",
    "y_pred = model.predict(X_test_scaled)\n",
    "\n",
    "print(\"Classification Report:\\n\",classification_report(y_test, y_pred))"
   ]
  },
  {
   "cell_type": "code",
   "execution_count": null,
   "id": "7d57b72e-a27a-4379-a315-2984b51f0dcd",
   "metadata": {},
   "outputs": [],
   "source": [
    "# จำนวนข้อมูลทั้งหมด\n",
    "total_data = df.shape[0]\n",
    "\n",
    "# จำนวนข้อมูลที่ใช้เทรน\n",
    "train_data = X_train.shape[0]\n",
    "churn_count = y_train.sum()  # จำนวน Churn ใน Training data ก่อน Upsampling\n",
    "stay_count = len(y_train) - churn_count  # จำนวน Stay ใน Training data ก่อน Upsampling\n",
    "\n",
    "# จำนวนข้อมูลที่ถูก Upsampled\n",
    "upsample_data = X_train_resampled.shape[0]\n",
    "upsample_churn_count = y_train_resampled.sum()  # จำนวน Churn ใน Training data หลัง Upsampling\n",
    "upsample_stay_count = len(y_train_resampled) - upsample_churn_count  # จำนวน Stay ใน Training data หลัง Upsampling\n",
    "\n",
    "# จำนวนข้อมูลที่ใช้ทดสอบ\n",
    "test_data = X_test.shape[0]\n",
    "\n",
    "# คำนวณสัดส่วน\n",
    "train_ratio = train_data / total_data\n",
    "test_ratio = test_data / total_data\n",
    "\n",
    "# แสดงผล\n",
    "print(f\"Total data: {total_data} samples\")\n",
    "print(f\"Training data: {train_data} samples ({train_ratio*100:.2f}%)\")\n",
    "print(f\"Churn: {churn_count} samples ({churn_count / len(y_train) * 100:.2f}%)\")\n",
    "print(f\"Stay: {stay_count} samples ({stay_count / len(y_train) * 100:.2f}%)\")\n",
    "print(f\"Testing data: {test_data} samples ({test_ratio*100:.2f}%)\")\n",
    "print(\"After sampling (SMOTE)\")\n",
    "print(f\"Training data: {upsample_data} samples\")\n",
    "print(f\"Churn after SMOTE: {upsample_churn_count} samples ({upsample_churn_count / len(y_train_resampled) * 100:.2f}%)\")\n",
    "print(f\"Stay after SMOTE: {upsample_stay_count} samples ({upsample_stay_count / len(y_train_resampled) * 100:.2f}%)\")"
   ]
  },
  {
   "cell_type": "code",
   "execution_count": null,
   "id": "fcaddbd7-3409-4bec-94bf-db41eefe518f",
   "metadata": {},
   "outputs": [],
   "source": [
    "cm = confusion_matrix(y_test, y_pred)\n",
    "\n",
    "# แสดง confusion matrix\n",
    "plt.figure(figsize=(6, 5))\n",
    "sns.heatmap(cm, annot=True, fmt='d', cmap='Blues', xticklabels=['Stay', 'Churn'], yticklabels=['Stay', 'Churn'])\n",
    "plt.title('Confusion Matrix')\n",
    "plt.xlabel('Predicted')\n",
    "plt.ylabel('Actual')\n",
    "plt.show()"
   ]
  },
  {
   "cell_type": "code",
   "execution_count": null,
   "id": "7c9ab3fd-2ade-4362-90c8-c42e0e28ec46",
   "metadata": {},
   "outputs": [],
   "source": [
    "# ข้อมูลใหม่ที่ต้องการทำนาย Monthly Charge, Tenure in Months, Contract, Total Charges, Satisfaction Score\n",
    "new_data = [[80, 4, 1, 320, 2]]\n",
    "new_data_scaled = scaler.transform(new_data)\n",
    "prediction = model.predict(new_data_scaled)\n",
    "print(f'Churn Prediction: {\"Churn\" if prediction[0] else \"Stay\"}')"
   ]
  }
 ],
 "metadata": {
  "kernelspec": {
   "display_name": "Python 3 (ipykernel)",
   "language": "python",
   "name": "python3"
  },
  "language_info": {
   "codemirror_mode": {
    "name": "ipython",
    "version": 3
   },
   "file_extension": ".py",
   "mimetype": "text/x-python",
   "name": "python",
   "nbconvert_exporter": "python",
   "pygments_lexer": "ipython3",
   "version": "3.12.7"
  }
 },
 "nbformat": 4,
 "nbformat_minor": 5
}
